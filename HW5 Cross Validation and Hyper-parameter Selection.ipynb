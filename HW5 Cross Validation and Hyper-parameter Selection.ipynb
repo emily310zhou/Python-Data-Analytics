{
 "cells": [
  {
   "cell_type": "markdown",
   "metadata": {},
   "source": [
    "## C S 329E HW 5\n",
    "\n",
    "# Crossvalidation and hyperparameter selection\n",
    "\n",
    "## Elena Zhang and Emily Zhou\n",
    "\n",
    "For this week's homework we are going to explore the cross validation testing methodology and applying that to get error estimates on the two algorithms we've used so far:\n",
    "  - Linear Regression\n",
    "  - Decision Tree classification\n",
    "  "
   ]
  },
  {
   "cell_type": "code",
   "execution_count": 1,
   "metadata": {},
   "outputs": [],
   "source": [
    "# import the libraries! If you want to add things here for visualization, please do, \n",
    "# but only use sklearn when prompted\n",
    "import pandas as pd\n",
    "import numpy as np\n",
    "from sklearn import tree \n",
    "from sklearn.datasets import load_iris\n",
    "from sklearn.datasets import load_diabetes"
   ]
  },
  {
   "cell_type": "markdown",
   "metadata": {},
   "source": [
    "# Part 1 - Calculate Generalized Error on Linear Regression with k-fold Cross Validation"
   ]
  },
  {
   "cell_type": "markdown",
   "metadata": {},
   "source": [
    "## Q1.1 Load in the diabetes data set as a pandas dataframe and series.  \n",
    "Documentation on the data set is [here](https://scikit-learn.org/stable/modules/generated/sklearn.datasets.load_diabetes.html).  Name your features dataframe (the independent variables) `df_X` and your target value (the dependent variable) series `s_y`"
   ]
  },
  {
   "cell_type": "code",
   "execution_count": 2,
   "metadata": {},
   "outputs": [],
   "source": [
    "#load data\n",
    "diabetes = load_diabetes()\n",
    "features = diabetes.feature_names #get feature names\n",
    "\n",
    "#create s_y - class label\n",
    "s_y = diabetes.target\n",
    "\n",
    "#create df_X - attributes\n",
    "df_X = pd.DataFrame(diabetes.data, columns = features)"
   ]
  },
  {
   "cell_type": "markdown",
   "metadata": {},
   "source": [
    "## Q1.2 Define a function that creates a linear least squares regression model \n",
    "This function should take in two parameters, `df_X`, and `s_y` and return the least squares regression model, $\\hat{\\beta}$ (using the notation from the ESLII book chapter 3 and HW3).  You can not use any libraries outside of pandas and numpy. Note that the length of beta_hat should be the number of columns in `df_X` + 1. "
   ]
  },
  {
   "cell_type": "code",
   "execution_count": 3,
   "metadata": {},
   "outputs": [],
   "source": [
    "def get_linear_regression_model( df_X, s_y ):\n",
    "    # your code here\n",
    "    X = pd.concat([pd.DataFrame({'intercept':np.ones(len(df_X))}), df_X], axis=1)\n",
    "    (beta_hat, residuals, rank, s) = np.linalg.lstsq(X, s_y, rcond=-1)\n",
    "    return beta_hat"
   ]
  },
  {
   "cell_type": "code",
   "execution_count": 4,
   "metadata": {},
   "outputs": [
    {
     "data": {
      "text/plain": [
       "array([ 4.18818425,  1.77890808,  0.74032569, -1.3506416 ,  0.14535984])"
      ]
     },
     "execution_count": 4,
     "metadata": {},
     "output_type": "execute_result"
    }
   ],
   "source": [
    "# code to check beta_hat\n",
    "np.random.seed(23)\n",
    "beta_hat = get_linear_regression_model( pd.DataFrame(np.random.random((34,4))), pd.Series(np.random.random(34)*10.0) )\n",
    "beta_hat"
   ]
  },
  {
   "cell_type": "markdown",
   "metadata": {},
   "source": [
    "## Q1.3 Define a function that partitions the dataframe and series data into dictionaries\n",
    "This function should take in three parameters, `df_X`, `s_y`, and `k`, and returns a tuple of two dictionaries.\n",
    "In both dictionaries the key is the `k` value (an integer from one to `k` inclusive).\n",
    "The first dictionary will have the dataframe of the training data that contains approximately $\\frac{1}{k}$ of the data (variation due to randomness is acceptable).\n",
    "The second dictionary will have the series of the target data that contains approximately $\\frac{1}{k}$ of the data (variation due to randomness is acceptable). Please note the targets _must match_ the same rows as the dataframe at this index, e.g, the length of the kth partition is the same for the dataframe and series.\n",
    "\n",
    "Call that function with $k=5$ and create the dictionaries `dict_k_df_X` and `dict_k_s_y`. Print out the number of rows in each fold.  Check that the number of data points in each partition totals the number of data points in the entire dataset. \n",
    "\n",
    "Here is some example output from checking the length of the folds:\n",
    "```\n",
    "Fold 1 length of dataframe is 88 and length of series is 88\n",
    "Fold 2 length of dataframe is 96 and length of series is 96\n",
    "Fold 3 length of dataframe is 88 and length of series is 88\n",
    "Fold 4 length of dataframe is 79 and length of series is 79\n",
    "Fold 5 length of dataframe is 91 and length of series is 91\n",
    "The sum of the number of elements in each fold is 442 and there are 442 rows in the original df\n",
    "```"
   ]
  },
  {
   "cell_type": "code",
   "execution_count": 5,
   "metadata": {},
   "outputs": [],
   "source": [
    "def partition_data( df_X, s_y, k ):\n",
    "    # your code here\n",
    "    #get partition sizes using integer division\n",
    "    sizes = []\n",
    "    length = len(df_X)\n",
    "    size = length // k\n",
    "    remaining = length - (size * k)\n",
    "    sizes += [size] * (k-1)\n",
    "    sizes.append(size + remaining)\n",
    "    \n",
    "    #shuffle data set indices\n",
    "    indices = np.arange(0,len(df_X))\n",
    "    np.random.shuffle(indices)\n",
    "    \n",
    "    #intialize the dictionaries\n",
    "    dict_k_df_X = {}\n",
    "    dict_k_s_y = {}\n",
    "    start = 0\n",
    "    \n",
    "    #fill in the dictionaries\n",
    "    for i in range(len(sizes)):\n",
    "        \n",
    "        #grab index numbers for each fold\n",
    "        fold_indices = indices[start:start+sizes[i]]\n",
    "        \n",
    "        #grab df_X rows\n",
    "        fold_rows = df_X.iloc[fold_indices]                   \n",
    "        #put df_X rows in dict_k_df_X\n",
    "        dict_k_df_X[i + 1] = fold_rows\n",
    "        \n",
    "        #grab target rows\n",
    "        target_rows = pd.DataFrame(s_y).iloc[fold_indices]                     \n",
    "        #put target rows in dict_k_s_y\n",
    "        dict_k_s_y[i + 1] = target_rows\n",
    "        \n",
    "        #update next partition index start\n",
    "        start += sizes[i]\n",
    "        \n",
    "    return(dict_k_df_X,dict_k_s_y)\n",
    "        \n",
    "        \n",
    "#     COMMENTS FOR TESTING        \n",
    "#     for key,value in dict_k_df_X.items():\n",
    "#         print(key)\n",
    "#         print(value)\n",
    "\n",
    "#     for key,value in dict_k_s_y.items():\n",
    "#         print(key)\n",
    "#         print(value)\n",
    "\n",
    "#     for i in range(1,6):\n",
    "#         print(dict_k_df_X[i])\n",
    "#         print(dict_k_s_y[i])\n",
    "        "
   ]
  },
  {
   "cell_type": "code",
   "execution_count": 6,
   "metadata": {
    "scrolled": false
   },
   "outputs": [],
   "source": [
    "(dict_k_df_X, dict_k_s_y) = partition_data( df_X, s_y, 5 )"
   ]
  },
  {
   "cell_type": "code",
   "execution_count": 7,
   "metadata": {},
   "outputs": [
    {
     "name": "stdout",
     "output_type": "stream",
     "text": [
      "Fold 1 length of dataframe is 88 and length of series is 88\n",
      "Fold 2 length of dataframe is 88 and length of series is 88\n",
      "Fold 3 length of dataframe is 88 and length of series is 88\n",
      "Fold 4 length of dataframe is 88 and length of series is 88\n",
      "Fold 5 length of dataframe is 90 and length of series is 90\n",
      "The sum of the number of elements in each fold is 442 and there are 442 rows in the original df\n"
     ]
    }
   ],
   "source": [
    "# Check fold sizes\n",
    "total_rows = 0\n",
    "for key in dict_k_df_X.keys():\n",
    "    print('Fold',key,'length of dataframe is',len(dict_k_df_X[key]),'and length of series is',len(dict_k_s_y[key])) \n",
    "    total_rows += len(dict_k_df_X[key])\n",
    "print('The sum of the number of elements in each fold is',total_rows,'and there are',len(df_X),'rows in the original df')"
   ]
  },
  {
   "cell_type": "markdown",
   "metadata": {},
   "source": [
    "## Q1.4 Define a function that calculates a regression metric\n",
    "This function should accept two series of equal length $n$ numpy arrays, `s_y`, and `s_y_hat`. The metric it should calculate is the mean absolute error, $MAE = \\sum\\limits_{i=1}^n\\frac{|{s\\_y_i - {s\\_y\\_hat}_i}|}{n}$ \n",
    "\n",
    "Test your function by using the vectors:\n",
    "```\n",
    "x = np.array([1,2,3])\n",
    "y = np.array([2,2,3])\n",
    "```\n"
   ]
  },
  {
   "cell_type": "code",
   "execution_count": 8,
   "metadata": {},
   "outputs": [],
   "source": [
    "def get_mae( s_y, s_y_hat):\n",
    "    # your code here\n",
    "    mae = 0\n",
    "    length = len(s_y)\n",
    "    for i in range(length):\n",
    "        num = abs(s_y[i]-s_y_hat[i]) / length\n",
    "        mae += num\n",
    "    return mae"
   ]
  },
  {
   "cell_type": "code",
   "execution_count": 9,
   "metadata": {},
   "outputs": [
    {
     "data": {
      "text/plain": [
       "0.3333333333333333"
      ]
     },
     "execution_count": 9,
     "metadata": {},
     "output_type": "execute_result"
    }
   ],
   "source": [
    "# Test it \n",
    "x = np.array([1,2,3])\n",
    "y = np.array([2,2,3])\n",
    "get_mae(x,y)"
   ]
  },
  {
   "cell_type": "markdown",
   "metadata": {},
   "source": [
    "## Q1.5 Calculate the $MAE$ for each fold\n",
    "For each fold in your dictionaries, calculate the $MAE$.  Use the partition number key as the test set, and all other partitions as the train set. \n",
    "\n",
    "Print the min, max, and mean $MAE$ of your 5 folds. "
   ]
  },
  {
   "cell_type": "code",
   "execution_count": 10,
   "metadata": {},
   "outputs": [],
   "source": [
    "mae = np.array([])\n",
    "for k in dict_k_df_X.keys():\n",
    "    \n",
    "    # your code here\n",
    "    #get test data\n",
    "    test_df_X = pd.concat([pd.DataFrame({'intercept':np.ones(len(dict_k_df_X[k]))}), dict_k_df_X[k].reset_index(drop=True)], axis=1)\n",
    "    s_y = dict_k_s_y[k].reset_index(drop=True).to_numpy()\n",
    "    \n",
    "    #get training data\n",
    "    filtered_df_X = {key:value for key,value in dict_k_df_X.items() if key != k}\n",
    "    train_df_X = pd.concat(filtered_df_X.values()).reset_index(drop=True)\n",
    "    \n",
    "    #print(train_df_X)\n",
    "    filtered_s_y = {key:value for key,value in dict_k_s_y.items() if key != k}\n",
    "    train_s_y = pd.concat(filtered_s_y.values()).reset_index(drop=True)\n",
    "    \n",
    "    #create regression model with training data\n",
    "    beta_hat = get_linear_regression_model(train_df_X,train_s_y)\n",
    "    \n",
    "    #predict on test data\n",
    "    s_y_hat = np.matmul(test_df_X,beta_hat).to_numpy()\n",
    "    \n",
    "    #calculate MAE\n",
    "    mae = np.append(mae, get_mae(s_y,s_y_hat) )   "
   ]
  },
  {
   "cell_type": "code",
   "execution_count": 11,
   "metadata": {
    "scrolled": true
   },
   "outputs": [
    {
     "name": "stdout",
     "output_type": "stream",
     "text": [
      "The min MAE is 42.27, the max MAE is 46.97, and the mean MAE is 44.40\n"
     ]
    }
   ],
   "source": [
    "print(\"The min MAE is {:.2f}, the max MAE is {:.2f}, and the mean MAE is {:.2f}\".format(mae.min(),mae.max(),mae.mean()))"
   ]
  },
  {
   "cell_type": "markdown",
   "metadata": {},
   "source": [
    "# Part 2 - Find the best hyperparameter to use in a Decision Tree "
   ]
  },
  {
   "cell_type": "markdown",
   "metadata": {},
   "source": [
    "## Q2.1 Load the iris data in as a pandas dataframe and a series\n",
    "Documentation on the data set is [here](https://scikit-learn.org/stable/modules/generated/sklearn.datasets.load_iris.html). Name your features dataframe (the independent variables) `df_X` and your class label (the dependent variable) series `s_y`"
   ]
  },
  {
   "cell_type": "code",
   "execution_count": 12,
   "metadata": {},
   "outputs": [],
   "source": [
    "#load data\n",
    "iris = load_iris()\n",
    "features = iris.feature_names #get feature names\n",
    "\n",
    "#create s_y - class label\n",
    "s_y = iris.target\n",
    "\n",
    "#create df_X - attributes\n",
    "df_X = pd.DataFrame(iris.data, columns = features)"
   ]
  },
  {
   "cell_type": "markdown",
   "metadata": {},
   "source": [
    "## Q2.2 Partition `df_X` and `s_y` into $5$ partitions of roughly equal size\n",
    "Make 2 dictionaries, with the key of each dictionary the fold number.  The value of the dictionary `dict_k_df_X` is the $k^{th}$ partition of the data, and the value of the dictionary `dict_k_s_y` is the corresponding $k^{th}$ target classification.  Print out the number of rows in each fold.  Check that the number of data points in each partition totals the number of data points in the entire dataset. \n",
    "\n",
    "Note, you can reuse the functions from Section 1. "
   ]
  },
  {
   "cell_type": "code",
   "execution_count": 13,
   "metadata": {},
   "outputs": [
    {
     "name": "stdout",
     "output_type": "stream",
     "text": [
      "Fold 1 length of dataframe is 30 and length of series is 30\n",
      "Fold 2 length of dataframe is 30 and length of series is 30\n",
      "Fold 3 length of dataframe is 30 and length of series is 30\n",
      "Fold 4 length of dataframe is 30 and length of series is 30\n",
      "Fold 5 length of dataframe is 30 and length of series is 30\n",
      "The sum of the number of elements in each fold is 150 and there are 150 rows in the original df\n"
     ]
    }
   ],
   "source": [
    "(dict_k_df_X, dict_k_s_y) = partition_data( df_X, s_y, 5 )\n",
    "\n",
    "# Check fold sizes\n",
    "total_rows = 0\n",
    "for key in dict_k_df_X.keys():\n",
    "    print('Fold',key,'length of dataframe is',len(dict_k_df_X[key]),'and length of series is',len(dict_k_s_y[key])) \n",
    "    total_rows += len(dict_k_df_X[key])\n",
    "print('The sum of the number of elements in each fold is',total_rows,'and there are',len(df_X),'rows in the original df')"
   ]
  },
  {
   "cell_type": "markdown",
   "metadata": {},
   "source": [
    "## Q2.3 Define a function that calculates accuracy\n",
    "The function should accept two series and compare each element for equality.  The accuracy is the number of equal elements divided by the total number of elements.\n",
    "\n",
    "Test your accuracy function by calling it with the `s_y` loaded from the iris data set and an array of the same length containing all $1$ values. "
   ]
  },
  {
   "cell_type": "code",
   "execution_count": 14,
   "metadata": {},
   "outputs": [],
   "source": [
    "def get_acc( s_1, s_2 ):\n",
    "    # your code here\n",
    "    return sum(s_1 == s_2) / len(s_1)\n",
    "    "
   ]
  },
  {
   "cell_type": "code",
   "execution_count": 15,
   "metadata": {},
   "outputs": [
    {
     "data": {
      "text/plain": [
       "0.3333333333333333"
      ]
     },
     "execution_count": 15,
     "metadata": {},
     "output_type": "execute_result"
    }
   ],
   "source": [
    "get_acc(s_y,np.ones(len(s_y)))"
   ]
  },
  {
   "cell_type": "markdown",
   "metadata": {},
   "source": [
    "## Q2.4 Using Nested Cross validation, find the best hyperparameter\n",
    "Use the [Decision Tree Classifier](https://scikit-learn.org/stable/modules/tree.html#classification) class to build a decision tree inside of a 5-fold cross validation loop.  The partitions you already created in 2.2 will be the outer loop.  In the inside loop you should use 4-fold cross validation (so you don't have to partition _again_) to find the best value for `min_impurity_decrease`.  Use the Gini Index as your impurity measure. \n",
    "    Calculate the mean accuracy across the 4 folds of your inner loop for all the candidate `min_impurity_decrease` values, and print the value.  Use the array `np.array([0.1,0.25,0.3,0.4])` as the candidates for the best hyperparameter. If there is a tie (two `min_impurity_decrease` values give the same highest accuracy), choose the lowest `min_impurity_decrease` value. \n",
    "\n",
    "For each inner loop, select the best `min_impurity_decrease` and train the outer fold training data on using that value. \n",
    "\n",
    "For each of the 5 executions of the inner loop, your output should look something like this:\n",
    "```\n",
    "Testing 0.10 min impurity decrease\n",
    "\tAverage accuracy over 4 folds is 0.95\n",
    "Testing 0.25 min impurity decrease\n",
    "\tAverage accuracy over 4 folds is 0.86\n",
    "Testing 0.30 min impurity decrease\n",
    "\tAverage accuracy over 4 folds is 0.63\n",
    "Testing 0.40 min impurity decrease\n",
    "\tAverage accuracy over 4 folds is 0.27\n",
    "\n",
    "Best min impurity decrease is 0.1\n",
    "\n",
    "```"
   ]
  },
  {
   "cell_type": "code",
   "execution_count": 16,
   "metadata": {},
   "outputs": [
    {
     "name": "stdout",
     "output_type": "stream",
     "text": [
      "Testing 0.1 min impurity decrease\n",
      "\tAverage accuracy over 4 folds is 0.9416666666666667\n",
      "Testing 0.25 min impurity decrease\n",
      "\tAverage accuracy over 4 folds is 0.8416666666666666\n",
      "Testing 0.3 min impurity decrease\n",
      "\tAverage accuracy over 4 folds is 0.6333333333333333\n",
      "Testing 0.4 min impurity decrease\n",
      "\tAverage accuracy over 4 folds is 0.2833333333333333\n",
      "Best min impurity decrease is 0.1\n",
      "\n",
      "Testing 0.1 min impurity decrease\n",
      "\tAverage accuracy over 4 folds is 0.9500000000000001\n",
      "Testing 0.25 min impurity decrease\n",
      "\tAverage accuracy over 4 folds is 0.9500000000000001\n",
      "Testing 0.3 min impurity decrease\n",
      "\tAverage accuracy over 4 folds is 0.6416666666666666\n",
      "Testing 0.4 min impurity decrease\n",
      "\tAverage accuracy over 4 folds is 0.27499999999999997\n",
      "Best min impurity decrease is 0.1\n",
      "\n",
      "Testing 0.1 min impurity decrease\n",
      "\tAverage accuracy over 4 folds is 0.9333333333333333\n",
      "Testing 0.25 min impurity decrease\n",
      "\tAverage accuracy over 4 folds is 0.9333333333333333\n",
      "Testing 0.3 min impurity decrease\n",
      "\tAverage accuracy over 4 folds is 0.5833333333333333\n",
      "Testing 0.4 min impurity decrease\n",
      "\tAverage accuracy over 4 folds is 0.2583333333333333\n",
      "Best min impurity decrease is 0.1\n",
      "\n",
      "Testing 0.1 min impurity decrease\n",
      "\tAverage accuracy over 4 folds is 0.9333333333333333\n",
      "Testing 0.25 min impurity decrease\n",
      "\tAverage accuracy over 4 folds is 0.9333333333333333\n",
      "Testing 0.3 min impurity decrease\n",
      "\tAverage accuracy over 4 folds is 0.6083333333333333\n",
      "Testing 0.4 min impurity decrease\n",
      "\tAverage accuracy over 4 folds is 0.3333333333333333\n",
      "Best min impurity decrease is 0.1\n",
      "\n",
      "Testing 0.1 min impurity decrease\n",
      "\tAverage accuracy over 4 folds is 0.925\n",
      "Testing 0.25 min impurity decrease\n",
      "\tAverage accuracy over 4 folds is 0.8666666666666667\n",
      "Testing 0.3 min impurity decrease\n",
      "\tAverage accuracy over 4 folds is 0.6916666666666667\n",
      "Testing 0.4 min impurity decrease\n",
      "\tAverage accuracy over 4 folds is 0.31666666666666665\n",
      "Best min impurity decrease is 0.1\n",
      "\n"
     ]
    }
   ],
   "source": [
    "possible_min_impurity_decrease = np.array([0.1,0.25,0.3,0.4])\n",
    "\n",
    "# Outer loop\n",
    "outer_acc = np.array([])\n",
    "for k in dict_k_df_X.keys():\n",
    "     # your code here\n",
    "    avg_acc = np.array([])\n",
    "\n",
    "    #get outer df_X data\n",
    "    outer_test = dict_k_df_X[k]\n",
    "    filtered_outer_df_X_train = {key:value for key,value in dict_k_df_X.items() if key != k}\n",
    "    outer_train = pd.concat(filtered_outer_df_X_train.values()).reset_index(drop = True)\n",
    "    \n",
    "    #get outer s_y data\n",
    "    s_y_test = dict_k_s_y[k][0].to_numpy()\n",
    "    filtered_s_y_train = {key:value for key, value in dict_k_s_y.items() if key != k}\n",
    "    s_y_train = pd.concat(filtered_s_y_train.values()).reset_index(drop = True)\n",
    "    \n",
    "    for pos_min_impurity in possible_min_impurity_decrease:\n",
    "        \n",
    "        inner_acc = np.array([])\n",
    "        # Inner loop cross validation code here (use 4 folds, where the fold does not include k)\n",
    "        for test_k in filtered_outer_df_X_train.keys():\n",
    "            \n",
    "            #get inner df_X data\n",
    "            inner_test = filtered_outer_df_X_train[test_k]\n",
    "            filtered_inner_train = {key:value for key, value in filtered_outer_df_X_train.items() if key != test_k}\n",
    "            inner_train = pd.concat(filtered_inner_train.values()).reset_index(drop = True)\n",
    "\n",
    "            #get inner s_y data\n",
    "            inner_s_y_test = filtered_s_y_train[test_k][0].to_numpy()\n",
    "            filtered_inner_s_y_train = {key:value for key, value in filtered_s_y_train.items() if key != test_k}\n",
    "            inner_s_y_train = pd.concat(filtered_inner_s_y_train.values()).reset_index(drop = True)\n",
    "            \n",
    "            #build model\n",
    "            clf = tree.DecisionTreeClassifier(criterion = 'gini', min_impurity_decrease = pos_min_impurity)\n",
    "            clf = clf.fit(inner_train, inner_s_y_train)\n",
    "            \n",
    "            #predict and evaluate model accuracy\n",
    "            pred = clf.predict(inner_test)\n",
    "            acc = get_acc(pred, inner_s_y_test)\n",
    "            \n",
    "            inner_acc = np.append(inner_acc, acc)\n",
    "        \n",
    "        #find mean accuracy across 4 folds\n",
    "        avg_inner_acc = np.average(inner_acc)\n",
    "        avg_acc = np.append(avg_acc, avg_inner_acc)\n",
    "        \n",
    "        print(\"Testing \" + str(pos_min_impurity) + \" min impurity decrease\")\n",
    "        print(\"\\tAverage accuracy over 4 folds is \" + str(avg_inner_acc))\n",
    "        \n",
    "\n",
    "    # get index/indices of highest accuracy\n",
    "    ind = np.where(avg_acc == max(avg_acc))    \n",
    "    # get hyperparameter corresponding to index; if tie use smallest impurity\n",
    "    best_min_imp = min(possible_min_impurity_decrease[ind])\n",
    "    print(\"Best min impurity decrease is \" + str(best_min_imp))\n",
    "    \n",
    "    # Use best min impurity decrease to train model\n",
    "    outer_clf = tree.DecisionTreeClassifier(criterion = 'gini', min_impurity_decrease = best_min_imp)\n",
    "    outer_clf = outer_clf.fit(outer_train, s_y_train)\n",
    "    \n",
    "    #predict using test data\n",
    "    outer_pred = outer_clf.predict(outer_test)\n",
    "    \n",
    "    # outer accuracy calculation \n",
    "    this_acc = get_acc(outer_pred, s_y_test)\n",
    "    outer_acc = np.append(outer_acc,this_acc) # make sure and calculate this_acc in your loop\n",
    "    \n",
    "    print()\n"
   ]
  },
  {
   "cell_type": "markdown",
   "metadata": {},
   "source": [
    "## Q2.5 Show the generalized performance of the classifier \n",
    "Show the generalized performance of the classifier by printing the min, max, and mean accuracy of the outer fold test sets."
   ]
  },
  {
   "cell_type": "code",
   "execution_count": 17,
   "metadata": {},
   "outputs": [
    {
     "data": {
      "text/plain": [
       "0.8666666666666667"
      ]
     },
     "execution_count": 17,
     "metadata": {},
     "output_type": "execute_result"
    }
   ],
   "source": [
    "#min accuracy\n",
    "min(outer_acc)"
   ]
  },
  {
   "cell_type": "code",
   "execution_count": 18,
   "metadata": {},
   "outputs": [
    {
     "data": {
      "text/plain": [
       "0.9666666666666667"
      ]
     },
     "execution_count": 18,
     "metadata": {},
     "output_type": "execute_result"
    }
   ],
   "source": [
    "#max accuracy\n",
    "max(outer_acc)"
   ]
  },
  {
   "cell_type": "code",
   "execution_count": 19,
   "metadata": {},
   "outputs": [
    {
     "data": {
      "text/plain": [
       "0.9333333333333333"
      ]
     },
     "execution_count": 19,
     "metadata": {},
     "output_type": "execute_result"
    }
   ],
   "source": [
    "#mean accuracy\n",
    "np.average(outer_acc)"
   ]
  }
 ],
 "metadata": {
  "kernelspec": {
   "display_name": "Python 3",
   "language": "python",
   "name": "python3"
  },
  "language_info": {
   "codemirror_mode": {
    "name": "ipython",
    "version": 3
   },
   "file_extension": ".py",
   "mimetype": "text/x-python",
   "name": "python",
   "nbconvert_exporter": "python",
   "pygments_lexer": "ipython3",
   "version": "3.8.8"
  }
 },
 "nbformat": 4,
 "nbformat_minor": 4
}
